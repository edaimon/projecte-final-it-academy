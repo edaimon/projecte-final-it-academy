{
 "cells": [
  {
   "cell_type": "markdown",
   "id": "b9704efc",
   "metadata": {},
   "source": [
    "Per a aquest projecte, farem servir un conjunt de dades de l'IMDB amb 50.000 ressenyes de pel·lícules disponible a Kaggle. Aquest conjunt de dades consta de dues columnes (resenya i sentiment) que ens ajudaran a identificar si una resenya és positiva o negativa.\n",
    "La base de dades està disponible a \n",
    "\n",
    "Altres bases de dades:\n",
    "https://www.kaggle.com/code/lakshmi25npathi/sentiment-analysis-of-imdb-movie-reviews\n"
   ]
  },
  {
   "cell_type": "code",
   "execution_count": 27,
   "id": "bc8aa85e",
   "metadata": {},
   "outputs": [
    {
     "ename": "ImportError",
     "evalue": "cannot import name 'SV' from 'sklearn.svm' (/Users/eda/anaconda3/lib/python3.10/site-packages/sklearn/svm/__init__.py)",
     "output_type": "error",
     "traceback": [
      "\u001b[0;31m---------------------------------------------------------------------------\u001b[0m",
      "\u001b[0;31mImportError\u001b[0m                               Traceback (most recent call last)",
      "Cell \u001b[0;32mIn[27], line 9\u001b[0m\n\u001b[1;32m      7\u001b[0m \u001b[38;5;28;01mfrom\u001b[39;00m \u001b[38;5;21;01msklearn\u001b[39;00m\u001b[38;5;21;01m.\u001b[39;00m\u001b[38;5;21;01mfeature_extraction\u001b[39;00m\u001b[38;5;21;01m.\u001b[39;00m\u001b[38;5;21;01mtext\u001b[39;00m \u001b[38;5;28;01mimport\u001b[39;00m CountVectorizer\n\u001b[1;32m      8\u001b[0m \u001b[38;5;28;01mfrom\u001b[39;00m \u001b[38;5;21;01msklearn\u001b[39;00m\u001b[38;5;21;01m.\u001b[39;00m\u001b[38;5;21;01mfeature_extraction\u001b[39;00m\u001b[38;5;21;01m.\u001b[39;00m\u001b[38;5;21;01mtext\u001b[39;00m \u001b[38;5;28;01mimport\u001b[39;00m TfidfVectorizer\n\u001b[0;32m----> 9\u001b[0m \u001b[38;5;28;01mfrom\u001b[39;00m \u001b[38;5;21;01msklearn\u001b[39;00m\u001b[38;5;21;01m.\u001b[39;00m\u001b[38;5;21;01msvm\u001b[39;00m \u001b[38;5;28;01mimport\u001b[39;00m SV\n\u001b[1;32m     10\u001b[0m \u001b[38;5;28;01mfrom\u001b[39;00m \u001b[38;5;21;01msklearn\u001b[39;00m\u001b[38;5;21;01m.\u001b[39;00m\u001b[38;5;21;01mtree\u001b[39;00m \u001b[38;5;28;01mimport\u001b[39;00m DecisionTreeClassifier\n\u001b[1;32m     11\u001b[0m \u001b[38;5;28;01mfrom\u001b[39;00m \u001b[38;5;21;01msklearn\u001b[39;00m\u001b[38;5;21;01m.\u001b[39;00m\u001b[38;5;21;01mnaive_bayes\u001b[39;00m \u001b[38;5;28;01mimport\u001b[39;00m GaussianNB\n",
      "\u001b[0;31mImportError\u001b[0m: cannot import name 'SV' from 'sklearn.svm' (/Users/eda/anaconda3/lib/python3.10/site-packages/sklearn/svm/__init__.py)"
     ]
    }
   ],
   "source": [
    "import pandas as pd\n",
    "import matplotlib.pyplot as plt\n",
    "import seaborn as sns\n",
    "\n",
    "from imblearn.under_sampling import RandomUnderSampler\n",
    "from sklearn.model_selection import train_test_split\n",
    "from sklearn.feature_extraction.text import CountVectorizer\n",
    "from sklearn.feature_extraction.text import TfidfVectorizer\n",
    "from sklearn.svm import SV\n",
    "from sklearn.tree import DecisionTreeClassifier\n",
    "from sklearn.naive_bayes import GaussianNB\n",
    "from sklearn.linear_model import LogisticRegression\n",
    "from sklearn.metrics import f1_score\n",
    "from sklearn.metrics import classification_report\n",
    "from sklearn.metrics import confusion_matrix\n",
    "from sklearn.model_selection import GridSearchCV\n"
   ]
  },
  {
   "cell_type": "code",
   "execution_count": 3,
   "id": "b32741a6",
   "metadata": {},
   "outputs": [
    {
     "data": {
      "text/html": [
       "<div>\n",
       "<style scoped>\n",
       "    .dataframe tbody tr th:only-of-type {\n",
       "        vertical-align: middle;\n",
       "    }\n",
       "\n",
       "    .dataframe tbody tr th {\n",
       "        vertical-align: top;\n",
       "    }\n",
       "\n",
       "    .dataframe thead th {\n",
       "        text-align: right;\n",
       "    }\n",
       "</style>\n",
       "<table border=\"1\" class=\"dataframe\">\n",
       "  <thead>\n",
       "    <tr style=\"text-align: right;\">\n",
       "      <th></th>\n",
       "      <th>review</th>\n",
       "      <th>sentiment</th>\n",
       "    </tr>\n",
       "  </thead>\n",
       "  <tbody>\n",
       "    <tr>\n",
       "      <th>0</th>\n",
       "      <td>One of the other reviewers has mentioned that ...</td>\n",
       "      <td>positive</td>\n",
       "    </tr>\n",
       "    <tr>\n",
       "      <th>1</th>\n",
       "      <td>A wonderful little production. &lt;br /&gt;&lt;br /&gt;The...</td>\n",
       "      <td>positive</td>\n",
       "    </tr>\n",
       "    <tr>\n",
       "      <th>2</th>\n",
       "      <td>I thought this was a wonderful way to spend ti...</td>\n",
       "      <td>positive</td>\n",
       "    </tr>\n",
       "    <tr>\n",
       "      <th>3</th>\n",
       "      <td>Basically there's a family where a little boy ...</td>\n",
       "      <td>negative</td>\n",
       "    </tr>\n",
       "    <tr>\n",
       "      <th>4</th>\n",
       "      <td>Petter Mattei's \"Love in the Time of Money\" is...</td>\n",
       "      <td>positive</td>\n",
       "    </tr>\n",
       "    <tr>\n",
       "      <th>...</th>\n",
       "      <td>...</td>\n",
       "      <td>...</td>\n",
       "    </tr>\n",
       "    <tr>\n",
       "      <th>49995</th>\n",
       "      <td>I thought this movie did a down right good job...</td>\n",
       "      <td>positive</td>\n",
       "    </tr>\n",
       "    <tr>\n",
       "      <th>49996</th>\n",
       "      <td>Bad plot, bad dialogue, bad acting, idiotic di...</td>\n",
       "      <td>negative</td>\n",
       "    </tr>\n",
       "    <tr>\n",
       "      <th>49997</th>\n",
       "      <td>I am a Catholic taught in parochial elementary...</td>\n",
       "      <td>negative</td>\n",
       "    </tr>\n",
       "    <tr>\n",
       "      <th>49998</th>\n",
       "      <td>I'm going to have to disagree with the previou...</td>\n",
       "      <td>negative</td>\n",
       "    </tr>\n",
       "    <tr>\n",
       "      <th>49999</th>\n",
       "      <td>No one expects the Star Trek movies to be high...</td>\n",
       "      <td>negative</td>\n",
       "    </tr>\n",
       "  </tbody>\n",
       "</table>\n",
       "<p>50000 rows × 2 columns</p>\n",
       "</div>"
      ],
      "text/plain": [
       "                                                  review sentiment\n",
       "0      One of the other reviewers has mentioned that ...  positive\n",
       "1      A wonderful little production. <br /><br />The...  positive\n",
       "2      I thought this was a wonderful way to spend ti...  positive\n",
       "3      Basically there's a family where a little boy ...  negative\n",
       "4      Petter Mattei's \"Love in the Time of Money\" is...  positive\n",
       "...                                                  ...       ...\n",
       "49995  I thought this movie did a down right good job...  positive\n",
       "49996  Bad plot, bad dialogue, bad acting, idiotic di...  negative\n",
       "49997  I am a Catholic taught in parochial elementary...  negative\n",
       "49998  I'm going to have to disagree with the previou...  negative\n",
       "49999  No one expects the Star Trek movies to be high...  negative\n",
       "\n",
       "[50000 rows x 2 columns]"
      ]
     },
     "execution_count": 3,
     "metadata": {},
     "output_type": "execute_result"
    }
   ],
   "source": [
    "df = pd.read_csv('kaggle_movies_db.csv')\n",
    "df"
   ]
  },
  {
   "cell_type": "markdown",
   "id": "4e5bed04",
   "metadata": {},
   "source": [
    "A continuació, explorem les dades del dataset"
   ]
  },
  {
   "cell_type": "code",
   "execution_count": 4,
   "id": "52363201",
   "metadata": {},
   "outputs": [
    {
     "data": {
      "text/html": [
       "<div>\n",
       "<style scoped>\n",
       "    .dataframe tbody tr th:only-of-type {\n",
       "        vertical-align: middle;\n",
       "    }\n",
       "\n",
       "    .dataframe tbody tr th {\n",
       "        vertical-align: top;\n",
       "    }\n",
       "\n",
       "    .dataframe thead th {\n",
       "        text-align: right;\n",
       "    }\n",
       "</style>\n",
       "<table border=\"1\" class=\"dataframe\">\n",
       "  <thead>\n",
       "    <tr style=\"text-align: right;\">\n",
       "      <th></th>\n",
       "      <th>review</th>\n",
       "      <th>sentiment</th>\n",
       "    </tr>\n",
       "  </thead>\n",
       "  <tbody>\n",
       "    <tr>\n",
       "      <th>count</th>\n",
       "      <td>50000</td>\n",
       "      <td>50000</td>\n",
       "    </tr>\n",
       "    <tr>\n",
       "      <th>unique</th>\n",
       "      <td>49582</td>\n",
       "      <td>2</td>\n",
       "    </tr>\n",
       "    <tr>\n",
       "      <th>top</th>\n",
       "      <td>Loved today's show!!! It was a variety and not...</td>\n",
       "      <td>positive</td>\n",
       "    </tr>\n",
       "    <tr>\n",
       "      <th>freq</th>\n",
       "      <td>5</td>\n",
       "      <td>25000</td>\n",
       "    </tr>\n",
       "  </tbody>\n",
       "</table>\n",
       "</div>"
      ],
      "text/plain": [
       "                                                   review sentiment\n",
       "count                                               50000     50000\n",
       "unique                                              49582         2\n",
       "top     Loved today's show!!! It was a variety and not...  positive\n",
       "freq                                                    5     25000"
      ]
     },
     "execution_count": 4,
     "metadata": {},
     "output_type": "execute_result"
    }
   ],
   "source": [
    "df.describe()"
   ]
  },
  {
   "cell_type": "code",
   "execution_count": 6,
   "id": "85e77562",
   "metadata": {},
   "outputs": [
    {
     "data": {
      "text/plain": [
       "(50000, 2)"
      ]
     },
     "execution_count": 6,
     "metadata": {},
     "output_type": "execute_result"
    }
   ],
   "source": [
    "df.shape"
   ]
  },
  {
   "cell_type": "markdown",
   "id": "53c92ac6",
   "metadata": {},
   "source": [
    "Aquest conjunt de dades conté 50.000 files; no obstant això, per entrenar el nostre model de manera més ràpida en els passos seguents, agafarem una mostra més petita de 10.000 files. Aquesta petita mostra inclourà 9.000 ressenyes positives i 1.000 negatives per desequilibrar les dades.\n",
    "\n",
    "Amb aquest desequilibri entre les dues classes (positiva i negativa), es crea una situació de undersampling i oversampling, que es seguirà per construir in model més robust:\n",
    "\n",
    "<strong>Motius per explorar Undersampling:</strong>\n",
    "\n",
    "Rapidesa d'entrenament: Amb una majoria de ressenyes positives, entrenar el model amb un subconjunt més petit (submostreig) de ressenyes positives pot accelerar el procés sense perdre la informació essencial de la classe majoritària.\n",
    "\n",
    "Evitar la dominància: Amb tantes ressenyes positives, el model podria centrar-se massa en aquesta classe i ignorar la classe minoritària, afectant la seva habilitat per predir ressenyes negatives amb precisió.\n",
    "\n",
    "<strong>Motius per explorar Oversampling:</strong>\n",
    "\n",
    "Millora de la capacitat predictiva: Donada la petita quantitat de ressenyes negatives, fer un sobremostreig d'aquesta classe pot millorar la capacitat del model per reconèixer i aprendre patrons específics d'aquesta classe.\n",
    "\n",
    "Reducció del desequilibri: L'oversampling aborda el desequilibri inherent, assegurant que el model no estigui sesgat cap a la classe majoritària i pugui fer prediccions més equitatives per ambdues classes.\n",
    "\n"
   ]
  },
  {
   "cell_type": "code",
   "execution_count": 14,
   "id": "cf154982",
   "metadata": {},
   "outputs": [],
   "source": [
    "df_positive = df[df['sentiment']=='positive'][:9000]\n",
    "df_negative = df[df['sentiment']=='negative'][:1000]"
   ]
  },
  {
   "cell_type": "markdown",
   "id": "59599071",
   "metadata": {},
   "source": [
    "Fem una comprovació ràpida al dataframe per veure si s'han dividit correctament."
   ]
  },
  {
   "cell_type": "code",
   "execution_count": 11,
   "id": "7c367077",
   "metadata": {},
   "outputs": [
    {
     "data": {
      "text/html": [
       "<div>\n",
       "<style scoped>\n",
       "    .dataframe tbody tr th:only-of-type {\n",
       "        vertical-align: middle;\n",
       "    }\n",
       "\n",
       "    .dataframe tbody tr th {\n",
       "        vertical-align: top;\n",
       "    }\n",
       "\n",
       "    .dataframe thead th {\n",
       "        text-align: right;\n",
       "    }\n",
       "</style>\n",
       "<table border=\"1\" class=\"dataframe\">\n",
       "  <thead>\n",
       "    <tr style=\"text-align: right;\">\n",
       "      <th></th>\n",
       "      <th>review</th>\n",
       "      <th>sentiment</th>\n",
       "    </tr>\n",
       "  </thead>\n",
       "  <tbody>\n",
       "    <tr>\n",
       "      <th>0</th>\n",
       "      <td>One of the other reviewers has mentioned that ...</td>\n",
       "      <td>positive</td>\n",
       "    </tr>\n",
       "    <tr>\n",
       "      <th>1</th>\n",
       "      <td>A wonderful little production. &lt;br /&gt;&lt;br /&gt;The...</td>\n",
       "      <td>positive</td>\n",
       "    </tr>\n",
       "    <tr>\n",
       "      <th>2</th>\n",
       "      <td>I thought this was a wonderful way to spend ti...</td>\n",
       "      <td>positive</td>\n",
       "    </tr>\n",
       "    <tr>\n",
       "      <th>4</th>\n",
       "      <td>Petter Mattei's \"Love in the Time of Money\" is...</td>\n",
       "      <td>positive</td>\n",
       "    </tr>\n",
       "    <tr>\n",
       "      <th>5</th>\n",
       "      <td>Probably my all-time favorite movie, a story o...</td>\n",
       "      <td>positive</td>\n",
       "    </tr>\n",
       "  </tbody>\n",
       "</table>\n",
       "</div>"
      ],
      "text/plain": [
       "                                              review sentiment\n",
       "0  One of the other reviewers has mentioned that ...  positive\n",
       "1  A wonderful little production. <br /><br />The...  positive\n",
       "2  I thought this was a wonderful way to spend ti...  positive\n",
       "4  Petter Mattei's \"Love in the Time of Money\" is...  positive\n",
       "5  Probably my all-time favorite movie, a story o...  positive"
      ]
     },
     "execution_count": 11,
     "metadata": {},
     "output_type": "execute_result"
    }
   ],
   "source": [
    "df_positive.head()"
   ]
  },
  {
   "cell_type": "code",
   "execution_count": 13,
   "id": "7d9310de",
   "metadata": {},
   "outputs": [
    {
     "data": {
      "text/html": [
       "<div>\n",
       "<style scoped>\n",
       "    .dataframe tbody tr th:only-of-type {\n",
       "        vertical-align: middle;\n",
       "    }\n",
       "\n",
       "    .dataframe tbody tr th {\n",
       "        vertical-align: top;\n",
       "    }\n",
       "\n",
       "    .dataframe thead th {\n",
       "        text-align: right;\n",
       "    }\n",
       "</style>\n",
       "<table border=\"1\" class=\"dataframe\">\n",
       "  <thead>\n",
       "    <tr style=\"text-align: right;\">\n",
       "      <th></th>\n",
       "      <th>review</th>\n",
       "      <th>sentiment</th>\n",
       "    </tr>\n",
       "  </thead>\n",
       "  <tbody>\n",
       "    <tr>\n",
       "      <th>3</th>\n",
       "      <td>Basically there's a family where a little boy ...</td>\n",
       "      <td>negative</td>\n",
       "    </tr>\n",
       "    <tr>\n",
       "      <th>7</th>\n",
       "      <td>This show was an amazing, fresh &amp; innovative i...</td>\n",
       "      <td>negative</td>\n",
       "    </tr>\n",
       "    <tr>\n",
       "      <th>8</th>\n",
       "      <td>Encouraged by the positive comments about this...</td>\n",
       "      <td>negative</td>\n",
       "    </tr>\n",
       "    <tr>\n",
       "      <th>10</th>\n",
       "      <td>Phil the Alien is one of those quirky films wh...</td>\n",
       "      <td>negative</td>\n",
       "    </tr>\n",
       "    <tr>\n",
       "      <th>11</th>\n",
       "      <td>I saw this movie when I was about 12 when it c...</td>\n",
       "      <td>negative</td>\n",
       "    </tr>\n",
       "  </tbody>\n",
       "</table>\n",
       "</div>"
      ],
      "text/plain": [
       "                                               review sentiment\n",
       "3   Basically there's a family where a little boy ...  negative\n",
       "7   This show was an amazing, fresh & innovative i...  negative\n",
       "8   Encouraged by the positive comments about this...  negative\n",
       "10  Phil the Alien is one of those quirky films wh...  negative\n",
       "11  I saw this movie when I was about 12 when it c...  negative"
      ]
     },
     "execution_count": 13,
     "metadata": {},
     "output_type": "execute_result"
    }
   ],
   "source": [
    "df_negative.head()"
   ]
  },
  {
   "cell_type": "markdown",
   "id": "9b30cb20",
   "metadata": {},
   "source": [
    "Ara, concatenem els dataframes amb el nou mostreig"
   ]
  },
  {
   "cell_type": "code",
   "execution_count": 15,
   "id": "4992f1c2",
   "metadata": {},
   "outputs": [],
   "source": [
    "df_review_imb = pd.concat([df_positive, df_negative])"
   ]
  },
  {
   "cell_type": "code",
   "execution_count": 16,
   "id": "2c42ec5c",
   "metadata": {},
   "outputs": [
    {
     "data": {
      "text/html": [
       "<div>\n",
       "<style scoped>\n",
       "    .dataframe tbody tr th:only-of-type {\n",
       "        vertical-align: middle;\n",
       "    }\n",
       "\n",
       "    .dataframe tbody tr th {\n",
       "        vertical-align: top;\n",
       "    }\n",
       "\n",
       "    .dataframe thead th {\n",
       "        text-align: right;\n",
       "    }\n",
       "</style>\n",
       "<table border=\"1\" class=\"dataframe\">\n",
       "  <thead>\n",
       "    <tr style=\"text-align: right;\">\n",
       "      <th></th>\n",
       "      <th>review</th>\n",
       "      <th>sentiment</th>\n",
       "    </tr>\n",
       "  </thead>\n",
       "  <tbody>\n",
       "    <tr>\n",
       "      <th>0</th>\n",
       "      <td>One of the other reviewers has mentioned that ...</td>\n",
       "      <td>positive</td>\n",
       "    </tr>\n",
       "    <tr>\n",
       "      <th>1</th>\n",
       "      <td>A wonderful little production. &lt;br /&gt;&lt;br /&gt;The...</td>\n",
       "      <td>positive</td>\n",
       "    </tr>\n",
       "    <tr>\n",
       "      <th>2</th>\n",
       "      <td>I thought this was a wonderful way to spend ti...</td>\n",
       "      <td>positive</td>\n",
       "    </tr>\n",
       "    <tr>\n",
       "      <th>4</th>\n",
       "      <td>Petter Mattei's \"Love in the Time of Money\" is...</td>\n",
       "      <td>positive</td>\n",
       "    </tr>\n",
       "    <tr>\n",
       "      <th>5</th>\n",
       "      <td>Probably my all-time favorite movie, a story o...</td>\n",
       "      <td>positive</td>\n",
       "    </tr>\n",
       "    <tr>\n",
       "      <th>...</th>\n",
       "      <td>...</td>\n",
       "      <td>...</td>\n",
       "    </tr>\n",
       "    <tr>\n",
       "      <th>2000</th>\n",
       "      <td>Stranded in Space (1972) MST3K version - a ver...</td>\n",
       "      <td>negative</td>\n",
       "    </tr>\n",
       "    <tr>\n",
       "      <th>2005</th>\n",
       "      <td>I happened to catch this supposed \"horror\" fli...</td>\n",
       "      <td>negative</td>\n",
       "    </tr>\n",
       "    <tr>\n",
       "      <th>2007</th>\n",
       "      <td>waste of 1h45 this nasty little film is one to...</td>\n",
       "      <td>negative</td>\n",
       "    </tr>\n",
       "    <tr>\n",
       "      <th>2010</th>\n",
       "      <td>Warning: This could spoil your movie. Watch it...</td>\n",
       "      <td>negative</td>\n",
       "    </tr>\n",
       "    <tr>\n",
       "      <th>2013</th>\n",
       "      <td>Quite what the producers of this appalling ada...</td>\n",
       "      <td>negative</td>\n",
       "    </tr>\n",
       "  </tbody>\n",
       "</table>\n",
       "<p>10000 rows × 2 columns</p>\n",
       "</div>"
      ],
      "text/plain": [
       "                                                 review sentiment\n",
       "0     One of the other reviewers has mentioned that ...  positive\n",
       "1     A wonderful little production. <br /><br />The...  positive\n",
       "2     I thought this was a wonderful way to spend ti...  positive\n",
       "4     Petter Mattei's \"Love in the Time of Money\" is...  positive\n",
       "5     Probably my all-time favorite movie, a story o...  positive\n",
       "...                                                 ...       ...\n",
       "2000  Stranded in Space (1972) MST3K version - a ver...  negative\n",
       "2005  I happened to catch this supposed \"horror\" fli...  negative\n",
       "2007  waste of 1h45 this nasty little film is one to...  negative\n",
       "2010  Warning: This could spoil your movie. Watch it...  negative\n",
       "2013  Quite what the producers of this appalling ada...  negative\n",
       "\n",
       "[10000 rows x 2 columns]"
      ]
     },
     "execution_count": 16,
     "metadata": {},
     "output_type": "execute_result"
    }
   ],
   "source": [
    "df_review_imb"
   ]
  },
  {
   "cell_type": "markdown",
   "id": "63c05cb9",
   "metadata": {},
   "source": [
    "Visualitzem el nou dataset en un gràfic de barres"
   ]
  },
  {
   "cell_type": "code",
   "execution_count": 22,
   "id": "6bfdb513",
   "metadata": {},
   "outputs": [
    {
     "data": {
      "image/png": "[encoded data removed]",
      "text/plain": [
       "<Figure size 800x600 with 1 Axes>"
      ]
     },
     "metadata": {},
     "output_type": "display_data"
    }
   ],
   "source": [
    "# Comptatge del nombre de ressenyes per classe\n",
    "positive_count = df_positive.shape[0]\n",
    "negative_count = df_negative.shape[0]\n",
    "\n",
    "# Creació del gràfic de barres\n",
    "plt.figure(figsize=(8, 6))\n",
    "plt.bar(['Positive', 'Negative'], [positive_count, negative_count], color=['green', 'magenta'])\n",
    "\n",
    "plt.xlabel('Sentiment')\n",
    "plt.ylabel('Número de Ressenyes')\n",
    "plt.title('Distribució de Sentiments en el Conjunt de Dades')\n",
    "\n",
    "plt.show()"
   ]
  },
  {
   "cell_type": "code",
   "execution_count": 23,
   "id": "9ac105cc",
   "metadata": {},
   "outputs": [
    {
     "data": {
      "image/png": "[encoded data removed]",
      "text/plain": [
       "<Figure size 800x800 with 1 Axes>"
      ]
     },
     "metadata": {},
     "output_type": "display_data"
    }
   ],
   "source": [
    "total_count = positive_count + negative_count\n",
    "positive_percentage = (positive_count / total_count) * 100\n",
    "negative_percentage = (negative_count / total_count) * 100\n",
    "\n",
    "# Crea una figura de gràfic de sectors\n",
    "plt.figure(figsize=(8, 8))\n",
    "\n",
    "# Dibuixa el gràfic de sectors amb percentatges i comptes\n",
    "labels = ['Positive', 'Negative']\n",
    "sizes = [positive_count, negative_count]\n",
    "percentages = [positive_percentage, negative_percentage]\n",
    "\n",
    "plt.pie(sizes, labels=labels, autopct='%1.1f%%', startangle=90, colors=['green', 'magenta'])\n",
    "\n",
    "# Afegir etiquetes i títol\n",
    "plt.axis('equal')  # Assegura que el gràfic de sectors sigui circular\n",
    "plt.title('Distribució de Sentiments en el Conjunt de Dades')\n",
    "\n",
    "# Mostra el gràfic\n",
    "plt.show()"
   ]
  },
  {
   "cell_type": "markdown",
   "id": "3b22b0d3",
   "metadata": {},
   "source": [
    "## Imbalanced learn"
   ]
  },
  {
   "cell_type": "markdown",
   "id": "87a2f37d",
   "metadata": {},
   "source": [
    "Per reequilibrar les nostres dades, fem servir la biblioteca imbalanced-learn (imblearn). Per al nostre projecte, farem servir la tècnica de undersampling RandomUnderSampler."
   ]
  },
  {
   "cell_type": "code",
   "execution_count": 33,
   "id": "a8af42e0",
   "metadata": {},
   "outputs": [
    {
     "data": {
      "text/plain": [
       "sentiment\n",
       "negative     1000\n",
       "positive     1000\n",
       "dtype: int64"
      ]
     },
     "execution_count": 33,
     "metadata": {},
     "output_type": "execute_result"
    }
   ],
   "source": [
    "from imblearn.under_sampling import RandomUnderSampler\n",
    "\n",
    "# desbalanceado\n",
    "df_review_des = pd.concat([df_positive, df_negative])\n",
    "df_review_des.value_counts('sentiment')\n",
    "\n",
    "rus = RandomUnderSampler()\n",
    "df_review_bal, df_review_bal['sentiment'] = rus.fit_resample(df_review_des[['review']], df_review_des['sentiment'])\n",
    "\n",
    "df_review_bal.value_counts(['sentiment'])"
   ]
  },
  {
   "cell_type": "markdown",
   "id": "233631a2",
   "metadata": {},
   "source": [
    "Per reequilibrar les dades hem fet servir la tècnica de mostreig aleatori (RandomUnderSampler) per reduir el nombre de mostres de la classe majoritària (en aquest cas, la classe \"positive\") per igualar-lo al nombre de mostres de la classe minoritària (la classe \"negative\"). Després d'aplicar l'undersampling, s'obté un nou conjunt de dades (df_review_bal) amb 1000 mostres de cada classe.\n",
    "\n",
    "El resultat indica que s'ha aconseguit un balanç perfecte (1000 registres en concret per cada classe) entre les dues classes després de l'aplicació de l'undersampling."
   ]
  },
  {
   "cell_type": "markdown",
   "id": "291ac0ab",
   "metadata": {},
   "source": [
    "## Train-Test"
   ]
  },
  {
   "cell_type": "markdown",
   "id": "6b0acb05",
   "metadata": {},
   "source": [
    "Ara anem a dividir les nostres dades en dos congunts: un conjunt d'entrenament i un conjunt de proves. El conjunt d'entrenament s'utilitzarà per ajustar el model, mentres que el conjunt de proves es farà servir per proporcionar una avaluació imparcial d'un model final ajustat al conjunt d'entrenament.\n",
    "\n",
    "Per dur a terme aquesta divisió, farem servir la funció <strong>train_test_split</strong> de la llibreria sklearn. En aquest cas, establim que el 33% de les dades es destinaran al conjunt de proves. Això significa que el 67% restant es farà servir com a conjunt d'entrenament.\n",
    "\n",
    "La divisió de les dades en conjunts d'entrenament i proves ha de ser representatiu del conjunt de dades original per obtenir una avaluació precisa del model. A més, la divisió aleatòria de les dades ajuda a evitar l'overfitting del model als patrons específics del conjunt d'entrenament."
   ]
  },
  {
   "cell_type": "code",
   "execution_count": 35,
   "id": "eb817595",
   "metadata": {},
   "outputs": [],
   "source": [
    "from sklearn.model_selection import train_test_split\n",
    "\n",
    "train, test = train_test_split(df_review_bal, test_size=0.33, random_state=42)\n",
    "\n",
    "train_x, train_y = train['review'], train['sentiment']\n",
    "test_x, test_y = test['review'], test['sentiment']"
   ]
  },
  {
   "cell_type": "markdown",
   "id": "00631058",
   "metadata": {},
   "source": [
    "El conjunt de dades s'ha dividit en un conjunt d'entrenament i un conjunt de proves. Explico les variables resultants d'aquesta divisió:\n",
    "\n",
    "train_x: Variables independents (review) que s'utilitzaran per entrenar el model. Com s'ha especificat test_size = 0.33, el 67% de les observacions del conjunt de dades es faran servir per ajustar el model.\n",
    "\n",
    "train_y: Variables dependents (sentiment) o etiqueta objectiu que ha de ser predita per aquest model.\n",
    "\n",
    "test_x: El 33% restant de les variables independents que es faran servir per fer prediccions per provar l'exactitud del model.\n",
    "\n",
    "test_y: Les etiquetes de les categories que es faran servir per provar l'exactitud entre les categories reals i les categories predites.\n",
    "\n",
    "Aquesta divisió serveix bàsicament per avaluar el rendiment del model en dades noves i no vistes durant l'entrenament. Per tant, el conjunt d'entrenament s'utilitza per ajustar el model, mentre que el conjunt de proves es fa servir per avaluar la seva precisió en dades noves."
   ]
  },
  {
   "cell_type": "markdown",
   "id": "4e24fc6f",
   "metadata": {},
   "source": [
    "Per visualitzar el resultat, imprimim les variables:"
   ]
  },
  {
   "cell_type": "code",
   "execution_count": 39,
   "id": "4cd55df6",
   "metadata": {},
   "outputs": [
    {
     "name": "stdout",
     "output_type": "stream",
     "text": [
      "Distribució de Sentiments - Conjunt d'Entrenament:\n",
      "negative    675\n",
      "positive    665\n",
      "Name: sentiment, dtype: int64\n",
      "\n",
      "Distribució de Sentiments - Conjunt de Proves:\n",
      "positive    335\n",
      "negative    325\n",
      "Name: sentiment, dtype: int64\n"
     ]
    }
   ],
   "source": [
    "print(\"Distribució de Sentiments - Conjunt d'Entrenament:\")\n",
    "print(train_sentiment_counts)\n",
    "\n",
    "print(\"\\nDistribució de Sentiments - Conjunt de Proves:\")\n",
    "print(test_sentiment_counts)"
   ]
  },
  {
   "cell_type": "markdown",
   "id": "031a8045",
   "metadata": {},
   "source": [
    "També en podem visualitzar els diferents conjuns de dades en gràfiques, on veiem que la distribució és molt similar:"
   ]
  },
  {
   "cell_type": "code",
   "execution_count": 36,
   "id": "68feb5c3",
   "metadata": {},
   "outputs": [
    {
     "data": {
      "image/png": "[encoded data removed]",
      "text/plain": [
       "<Figure size 1000x500 with 2 Axes>"
      ]
     },
     "metadata": {},
     "output_type": "display_data"
    }
   ],
   "source": [
    "# Comptatge\n",
    "train_sentiment_counts = train_y.value_counts()\n",
    "test_sentiment_counts = test_y.value_counts()\n",
    "\n",
    "# Gràfic\n",
    "fig, ax = plt.subplots(1, 2, figsize=(10, 5))\n",
    "train_sentiment_counts.plot(kind='bar', ax=ax[0], color='skyblue')\n",
    "ax[0].set_title('Conjunt d\\'entrenament')\n",
    "ax[0].set_xlabel('Sentiment')\n",
    "ax[0].set_ylabel('Count')\n",
    "test_sentiment_counts.plot(kind='bar', ax=ax[1], color='lightcoral')\n",
    "ax[1].set_title('Conjunt de proves')\n",
    "ax[1].set_xlabel('Sentiment')\n",
    "ax[1].set_ylabel('Count')\n",
    "\n",
    "plt.show()"
   ]
  },
  {
   "cell_type": "code",
   "execution_count": 38,
   "id": "43d39e76",
   "metadata": {},
   "outputs": [
    {
     "data": {
      "image/png": "[encoded data removed]",
      "text/plain": [
       "<Figure size 640x480 with 1 Axes>"
      ]
     },
     "metadata": {},
     "output_type": "display_data"
    },
    {
     "data": {
      "image/png": "[encoded data removed]",
      "text/plain": [
       "<Figure size 640x480 with 1 Axes>"
      ]
     },
     "metadata": {},
     "output_type": "display_data"
    }
   ],
   "source": [
    "# Train\n",
    "plt.pie(train_sentiment_counts, labels=train_sentiment_counts.index, autopct='%1.1f%%', colors=['skyblue', 'lightcoral'])\n",
    "plt.title('Distribució de Sentiments - Conjunt d\\'Entrenament')\n",
    "plt.show()\n",
    "\n",
    "# Test\n",
    "plt.pie(test_sentiment_counts, labels=test_sentiment_counts.index, autopct='%1.1f%%', colors=['skyblue', 'lightcoral'])\n",
    "plt.title('Distribució de Sentiments - Conjunt de Proves')\n",
    "plt.show()\n"
   ]
  },
  {
   "cell_type": "markdown",
   "id": "8e85af36",
   "metadata": {},
   "source": [
    "En ambdós casos, la distribució de sentiments és lleugerament més gran (<1) en els positius que en els negatius."
   ]
  },
  {
   "cell_type": "markdown",
   "id": "846faa5f",
   "metadata": {},
   "source": [
    "En la representació de text, els classificadors i algoritmes d'aprenentatge esperen vectors de característiques numèriques en comptes de documents de text en brut. Aquesta necessitat deriva de la naturalesa dels models que requereixen dades numèriques per funcionar adequadament.\n",
    "\n",
    "Per aconseguir això en el nostre context de ressenyes de pel·lícules, hem d'aconseguir convertir el text de les ressenyes en vectors numèrics. Existeixen diverses tècniques per representar el text, com ara la codificació one-hot, la bossa de paraules (Bag of Words) i Word2Vec."
   ]
  },
  {
   "cell_type": "markdown",
   "id": "d7bce3a0",
   "metadata": {},
   "source": [
    "## Bag of Words(BOW)"
   ]
  },
  {
   "cell_type": "markdown",
   "id": "649977f4",
   "metadata": {},
   "source": [
    "Aquesta tècnica converteix els documents de text en vectors de longitud fixa comptant quants cops apareix cada paraula en el document.\n",
    "\n",
    "Per aplicar la representació de la BOW, es poden utilitzar diverses tècniques com ara CountVectorizer i Term Frequency-Inverse Document Frequency (TF-IDF). El CountVectorizer simplement compta quants cops apareix cada paraula en un document, mentre que el TF-IDF ajusta aquestes freqüències en funció de la seva importància en tots els documents del conjunt de dades.\n",
    "\n",
    "La representació de la BOW és útil quan es volen tenir en compte les freqüències de les paraules en els documents, però no la seva ordre. Això és particularment útil en tasques on la semàntica de les paraules és més rellevant que la seva estructura gramatical o la seva seqüència.\n",
    "\n",
    "En aquesta tasca, optarem per utilitzar el CountVectorizer i el Term Frequency-Inverse Document Frequency (TF-IDF)."
   ]
  },
  {
   "cell_type": "markdown",
   "id": "cdc96d01",
   "metadata": {},
   "source": [
    "### Count Vectorizer"
   ]
  },
  {
   "cell_type": "code",
   "execution_count": 44,
   "id": "cea87d70",
   "metadata": {},
   "outputs": [
    {
     "name": "stdout",
     "output_type": "stream",
     "text": [
      "DataFrame amb matriu de comptadors per a ressenyes d'entrenament:\n",
      "      00  000  007  01pm  02  04  05  10  100  1000  ...  zorro  zuckers  \\\n",
      "0      0    0    0     0   0   0   0   0    0     0  ...      0        0   \n",
      "1      0    0    0     0   0   0   0   0    0     0  ...      0        0   \n",
      "2      0    0    0     0   0   0   0   2    0     0  ...      0        0   \n",
      "3      0    0    0     0   0   0   0   1    0     0  ...      0        0   \n",
      "4      0    0    0     0   0   0   0   0    0     0  ...      0        0   \n",
      "...   ..  ...  ...   ...  ..  ..  ..  ..  ...   ...  ...    ...      ...   \n",
      "1335   0    0    0     0   0   0   0   0    0     0  ...      0        0   \n",
      "1336   0    0    0     0   0   0   0   0    1     0  ...      0        0   \n",
      "1337   0    0    0     0   0   0   0   0    0     0  ...      0        0   \n",
      "1338   0    0    0     0   0   0   0   0    0     0  ...      0        0   \n",
      "1339   0    0    0     0   0   0   0   0    0     0  ...      0        0   \n",
      "\n",
      "      zues  zuleta  zzzzzzzzzzzzzzzzzz  æon  élan  émigrés  ísnt  ïn  \n",
      "0        0       0                   0    0     0        0     0   0  \n",
      "1        0       0                   0    0     0        0     0   0  \n",
      "2        0       0                   0    0     0        0     0   0  \n",
      "3        0       0                   0    0     0        0     0   0  \n",
      "4        0       0                   0    0     0        0     0   0  \n",
      "...    ...     ...                 ...  ...   ...      ...   ...  ..  \n",
      "1335     0       0                   0    0     0        0     0   0  \n",
      "1336     0       0                   0    0     0        0     0   0  \n",
      "1337     0       0                   0    0     0        0     0   0  \n",
      "1338     0       0                   0    0     0        0     0   0  \n",
      "1339     0       0                   0    0     0        0     0   0  \n",
      "\n",
      "[1340 rows x 20268 columns]\n",
      "\n",
      "DataFrame amb matriu de comptadors per a ressenyes de prova:\n",
      "     00  000  007  01pm  02  04  05  10  100  1000  ...  zorro  zuckers  zues  \\\n",
      "0     0    0    0     0   0   0   0   0    0     0  ...      0        0     0   \n",
      "1     0    0    0     0   0   0   0   0    0     0  ...      0        0     0   \n",
      "2     0    0    0     0   0   0   0   0    0     0  ...      0        0     0   \n",
      "3     0    0    0     0   0   0   0   0    0     0  ...      0        0     0   \n",
      "4     0    0    0     0   0   0   0   0    0     0  ...      0        0     0   \n",
      "..   ..  ...  ...   ...  ..  ..  ..  ..  ...   ...  ...    ...      ...   ...   \n",
      "655   0    0    0     0   0   0   0   0    0     0  ...      0        0     0   \n",
      "656   0    0    0     0   0   0   0   0    0     0  ...      0        0     0   \n",
      "657   0    0    0     0   0   0   0   0    0     0  ...      0        0     0   \n",
      "658   0    0    0     0   0   0   0   0    0     0  ...      0        0     0   \n",
      "659   0    0    0     0   0   0   0   0    0     0  ...      0        0     0   \n",
      "\n",
      "     zuleta  zzzzzzzzzzzzzzzzzz  æon  élan  émigrés  ísnt  ïn  \n",
      "0         0                   0    0     0        0     0   0  \n",
      "1         0                   0    0     0        0     0   0  \n",
      "2         0                   0    0     0        0     0   0  \n",
      "3         0                   0    0     0        0     0   0  \n",
      "4         0                   0    0     0        0     0   0  \n",
      "..      ...                 ...  ...   ...      ...   ...  ..  \n",
      "655       0                   0    0     0        0     0   0  \n",
      "656       0                   0    0     0        0     0   0  \n",
      "657       0                   0    0     0        0     0   0  \n",
      "658       0                   0    0     0        0     0   0  \n",
      "659       0                   0    0     0        0     0   0  \n",
      "\n",
      "[660 rows x 20268 columns]\n"
     ]
    }
   ],
   "source": [
    "from sklearn.feature_extraction.text import CountVectorizer\n",
    "import pandas as pd\n",
    "\n",
    "# Creem una instància de CountVectorizer\n",
    "cv = CountVectorizer()\n",
    "\n",
    "# Transformem les ressenyes d'entrenament en una matriu de comptadors\n",
    "train_x_vector = cv.fit_transform(train_x)\n",
    "\n",
    "# Transformem les ressenyes de prova en una matriu de comptadors\n",
    "test_x_vector = cv.transform(test_x)\n",
    "\n",
    "# Creem un DataFrame amb les matrius de comptadors per a les ressenyes d'entrenament i de prova\n",
    "df_train_vector = pd.DataFrame(train_x_vector.toarray(), columns=cv.get_feature_names_out())\n",
    "df_test_vector = pd.DataFrame(test_x_vector.toarray(), columns=cv.get_feature_names_out())\n",
    "\n",
    "# Visualitzem el DataFrame amb les matrius de comptadors per a les ressenyes d'entrenament\n",
    "print(\"DataFrame amb matriu de comptadors per a ressenyes d'entrenament:\")\n",
    "print(df_train_vector)\n",
    "\n",
    "# Visualitzem el DataFrame amb les matrius de comptadors per a ressenyes de prova\n",
    "print(\"\\nDataFrame amb matriu de comptadors per a ressenyes de prova:\")\n",
    "print(df_test_vector)\n"
   ]
  },
  {
   "cell_type": "markdown",
   "id": "5c89bffa",
   "metadata": {},
   "source": [
    "Observem que tenim 20.268 columnes (paraules úniques) en aquest dataframe. Algunes de les cel·les poden contenir el valor 0, ja que una paraula determinada pot no aparèixer en una ressenya específica. \n",
    "\n",
    "En la fase següent, aquestes matrius de comptadors es faran servir com a característiques d'entrada per als models de machine learning per predir el sentiment de les ressenyes de pel·lícules."
   ]
  },
  {
   "cell_type": "markdown",
   "id": "ab767f99",
   "metadata": {},
   "source": [
    "El següent pas és aplicar la tècnica de representació de text coneguda com a \"Term Frequency-Inverse Document Frequency\" (TF-IDF) utilitzant l'objecte TfidfVectorizer de la llibreria scikit-learn. Aquest procés implica la transformació de les ressenyes de pel·lícules en vectors numèrics que representen la importància relativa de les paraules en el conjunt de dades.\n",
    "\n",
    "Ara mateix tenim 20268 paraules úniques (una per columna=. Anem a refinar la llista de paraules treient les 'stopwords' en anglès."
   ]
  },
  {
   "cell_type": "code",
   "execution_count": 53,
   "id": "2d21b994",
   "metadata": {},
   "outputs": [
    {
     "name": "stdout",
     "output_type": "stream",
     "text": [
      "DataFrame amb matriu TF-IDF per a ressenyes d'entrenament:\n",
      "       00  000  007  01pm   02   04   05        10       100  1000  ...  \\\n",
      "0     0.0  0.0  0.0   0.0  0.0  0.0  0.0  0.000000  0.000000   0.0  ...   \n",
      "1     0.0  0.0  0.0   0.0  0.0  0.0  0.0  0.000000  0.000000   0.0  ...   \n",
      "2     0.0  0.0  0.0   0.0  0.0  0.0  0.0  0.151439  0.000000   0.0  ...   \n",
      "3     0.0  0.0  0.0   0.0  0.0  0.0  0.0  0.042773  0.000000   0.0  ...   \n",
      "4     0.0  0.0  0.0   0.0  0.0  0.0  0.0  0.000000  0.000000   0.0  ...   \n",
      "...   ...  ...  ...   ...  ...  ...  ...       ...       ...   ...  ...   \n",
      "1335  0.0  0.0  0.0   0.0  0.0  0.0  0.0  0.000000  0.000000   0.0  ...   \n",
      "1336  0.0  0.0  0.0   0.0  0.0  0.0  0.0  0.000000  0.106276   0.0  ...   \n",
      "1337  0.0  0.0  0.0   0.0  0.0  0.0  0.0  0.000000  0.000000   0.0  ...   \n",
      "1338  0.0  0.0  0.0   0.0  0.0  0.0  0.0  0.000000  0.000000   0.0  ...   \n",
      "1339  0.0  0.0  0.0   0.0  0.0  0.0  0.0  0.000000  0.000000   0.0  ...   \n",
      "\n",
      "      zorro  zuckers  zues  zuleta  zzzzzzzzzzzzzzzzzz  æon  élan  émigrés  \\\n",
      "0       0.0      0.0   0.0     0.0                 0.0  0.0   0.0      0.0   \n",
      "1       0.0      0.0   0.0     0.0                 0.0  0.0   0.0      0.0   \n",
      "2       0.0      0.0   0.0     0.0                 0.0  0.0   0.0      0.0   \n",
      "3       0.0      0.0   0.0     0.0                 0.0  0.0   0.0      0.0   \n",
      "4       0.0      0.0   0.0     0.0                 0.0  0.0   0.0      0.0   \n",
      "...     ...      ...   ...     ...                 ...  ...   ...      ...   \n",
      "1335    0.0      0.0   0.0     0.0                 0.0  0.0   0.0      0.0   \n",
      "1336    0.0      0.0   0.0     0.0                 0.0  0.0   0.0      0.0   \n",
      "1337    0.0      0.0   0.0     0.0                 0.0  0.0   0.0      0.0   \n",
      "1338    0.0      0.0   0.0     0.0                 0.0  0.0   0.0      0.0   \n",
      "1339    0.0      0.0   0.0     0.0                 0.0  0.0   0.0      0.0   \n",
      "\n",
      "      ísnt   ïn  \n",
      "0      0.0  0.0  \n",
      "1      0.0  0.0  \n",
      "2      0.0  0.0  \n",
      "3      0.0  0.0  \n",
      "4      0.0  0.0  \n",
      "...    ...  ...  \n",
      "1335   0.0  0.0  \n",
      "1336   0.0  0.0  \n",
      "1337   0.0  0.0  \n",
      "1338   0.0  0.0  \n",
      "1339   0.0  0.0  \n",
      "\n",
      "[1340 rows x 19969 columns]\n",
      "\n",
      "DataFrame amb matriu TF-IDF per a ressenyes de prova:\n",
      "      00  000  007  01pm   02   04   05   10  100  1000  ...  zorro  zuckers  \\\n",
      "0    0.0  0.0  0.0   0.0  0.0  0.0  0.0  0.0  0.0   0.0  ...    0.0      0.0   \n",
      "1    0.0  0.0  0.0   0.0  0.0  0.0  0.0  0.0  0.0   0.0  ...    0.0      0.0   \n",
      "2    0.0  0.0  0.0   0.0  0.0  0.0  0.0  0.0  0.0   0.0  ...    0.0      0.0   \n",
      "3    0.0  0.0  0.0   0.0  0.0  0.0  0.0  0.0  0.0   0.0  ...    0.0      0.0   \n",
      "4    0.0  0.0  0.0   0.0  0.0  0.0  0.0  0.0  0.0   0.0  ...    0.0      0.0   \n",
      "..   ...  ...  ...   ...  ...  ...  ...  ...  ...   ...  ...    ...      ...   \n",
      "655  0.0  0.0  0.0   0.0  0.0  0.0  0.0  0.0  0.0   0.0  ...    0.0      0.0   \n",
      "656  0.0  0.0  0.0   0.0  0.0  0.0  0.0  0.0  0.0   0.0  ...    0.0      0.0   \n",
      "657  0.0  0.0  0.0   0.0  0.0  0.0  0.0  0.0  0.0   0.0  ...    0.0      0.0   \n",
      "658  0.0  0.0  0.0   0.0  0.0  0.0  0.0  0.0  0.0   0.0  ...    0.0      0.0   \n",
      "659  0.0  0.0  0.0   0.0  0.0  0.0  0.0  0.0  0.0   0.0  ...    0.0      0.0   \n",
      "\n",
      "     zues  zuleta  zzzzzzzzzzzzzzzzzz  æon  élan  émigrés  ísnt   ïn  \n",
      "0     0.0     0.0                 0.0  0.0   0.0      0.0   0.0  0.0  \n",
      "1     0.0     0.0                 0.0  0.0   0.0      0.0   0.0  0.0  \n",
      "2     0.0     0.0                 0.0  0.0   0.0      0.0   0.0  0.0  \n",
      "3     0.0     0.0                 0.0  0.0   0.0      0.0   0.0  0.0  \n",
      "4     0.0     0.0                 0.0  0.0   0.0      0.0   0.0  0.0  \n",
      "..    ...     ...                 ...  ...   ...      ...   ...  ...  \n",
      "655   0.0     0.0                 0.0  0.0   0.0      0.0   0.0  0.0  \n",
      "656   0.0     0.0                 0.0  0.0   0.0      0.0   0.0  0.0  \n",
      "657   0.0     0.0                 0.0  0.0   0.0      0.0   0.0  0.0  \n",
      "658   0.0     0.0                 0.0  0.0   0.0      0.0   0.0  0.0  \n",
      "659   0.0     0.0                 0.0  0.0   0.0      0.0   0.0  0.0  \n",
      "\n",
      "[660 rows x 19969 columns]\n"
     ]
    }
   ],
   "source": [
    "import pandas as pd\n",
    "from sklearn.model_selection import train_test_split\n",
    "from sklearn.feature_extraction.text import TfidfVectorizer\n",
    "\n",
    "# Dividim el conjunt de dades en entrenament i prova\n",
    "train, test = train_test_split(df_review_bal, test_size=0.33, random_state=42)\n",
    "\n",
    "# Extraiem les ressenyes d'entrenament i prova\n",
    "train_x, train_y = train['review'], train['sentiment']\n",
    "test_x, test_y = test['review'], test['sentiment']\n",
    "\n",
    "# Creem una instància de TfidfVectorizer amb eliminació de stopwords en anglès\n",
    "tfidf_vectorizer = TfidfVectorizer(stop_words='english')\n",
    "\n",
    "# Transformem les ressenyes d'entrenament en una matriu TF-IDF\n",
    "train_x_tfidf = tfidf_vectorizer.fit_transform(train_x)\n",
    "\n",
    "# Transformem les ressenyes de prova en una matriu TF-IDF\n",
    "test_x_tfidf = tfidf_vectorizer.transform(test_x)\n",
    "\n",
    "# Creem un DataFrame amb les matrius TF-IDF per a les ressenyes d'entrenament i de prova\n",
    "df_train_tfidf = pd.DataFrame(train_x_tfidf.toarray(), columns=tfidf_vectorizer.get_feature_names_out())\n",
    "df_test_tfidf = pd.DataFrame(test_x_tfidf.toarray(), columns=tfidf_vectorizer.get_feature_names_out())\n",
    "\n",
    "# Visualitzem el DataFrame amb les matrius TF-IDF per a les ressenyes d'entrenament\n",
    "print(\"DataFrame amb matriu TF-IDF per a ressenyes d'entrenament:\")\n",
    "print(df_train_tfidf)\n",
    "\n",
    "# Visualitzem el DataFrame amb les matrius TF-IDF per a les ressenyes de prova\n",
    "print(\"\\nDataFrame amb matriu TF-IDF per a ressenyes de prova:\")\n",
    "print(df_test_tfidf)\n"
   ]
  },
  {
   "cell_type": "markdown",
   "id": "62f3a886",
   "metadata": {},
   "source": [
    "Els resultats mostren la matriu TF-IDF per a les ressenyes d'entrenament i prova. La matriu mostra les ressenyes d'entrenament (1340 ressenyes) i les de prova (660 ressenyes). Cada fila representa una ressenya, i cada columna és una paraula única en tot el conjunt de dades.\n",
    "\n",
    "Els valors de la matriu indiquen la importància relativa de cada paraula basada en la seva freqüència d'aparició i inversa documental.Aquests valors varien entre 0 (absència de la paraula) i valors més alts, reflectint la seva importància per a cada ressenya específica.\n",
    "\n",
    "Sense stopwords, ara tenim un total de 19969 paraules úniques."
   ]
  },
  {
   "cell_type": "markdown",
   "id": "a6ade0cd",
   "metadata": {},
   "source": []
  },
  {
   "cell_type": "code",
   "execution_count": 54,
   "id": "871b0594",
   "metadata": {
    "scrolled": false
   },
   "outputs": [
    {
     "name": "stdout",
     "output_type": "stream",
     "text": [
      "19969\n"
     ]
    }
   ],
   "source": [
    "unique_words = df_train_tfidf.columns.tolist()\n",
    "print(len(unique_words))"
   ]
  },
  {
   "cell_type": "code",
   "execution_count": null,
   "id": "4966f670",
   "metadata": {},
   "outputs": [],
   "source": []
  }
 ],
 "metadata": {
  "kernelspec": {
   "display_name": "Python 3 (ipykernel)",
   "language": "python",
   "name": "python3"
  },
  "language_info": {
   "codemirror_mode": {
    "name": "ipython",
    "version": 3
   },
   "file_extension": ".py",
   "mimetype": "text/x-python",
   "name": "python",
   "nbconvert_exporter": "python",
   "pygments_lexer": "ipython3",
   "version": "3.10.9"
  },
  "varInspector": {
   "cols": {
    "lenName": 16,
    "lenType": 16,
    "lenVar": 40
   },
   "kernels_config": {
    "python": {
     "delete_cmd_postfix": "",
     "delete_cmd_prefix": "del ",
     "library": "var_list.py",
     "varRefreshCmd": "print(var_dic_list())"
    },
    "r": {
     "delete_cmd_postfix": ") ",
     "delete_cmd_prefix": "rm(",
     "library": "var_list.r",
     "varRefreshCmd": "cat(var_dic_list()) "
    }
   },
   "types_to_exclude": [
    "module",
    "function",
    "builtin_function_or_method",
    "instance",
    "_Feature"
   ],
   "window_display": false
  }
 },
 "nbformat": 4,
 "nbformat_minor": 5
}
